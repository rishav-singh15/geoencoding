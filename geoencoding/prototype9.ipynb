{
 "cells": [
  {
   "cell_type": "markdown",
   "id": "f9a8abf8",
   "metadata": {},
   "source": [
    "Haversine"
   ]
  },
  {
   "cell_type": "code",
   "execution_count": null,
   "id": "9bfb6f25",
   "metadata": {},
   "outputs": [
    {
     "name": "stdout",
     "output_type": "stream",
     "text": [
      "with_haversine.csv saved successfully.\n",
      "    latitude  longitude  new_latitude  new_longitude  haversine_meters\n",
      "0  19.050805  72.904268     19.050063      72.904976        111.089585\n",
      "1  19.082990  72.906953     19.083099      72.906611         37.901982\n",
      "2  19.111500  72.927931     19.111367      72.927581         39.620498\n",
      "3  19.093282  72.912599     19.093104      72.912477         23.623095\n",
      "4  19.070149  72.878210     19.072630      72.884472        713.581424\n"
     ]
    }
   ],
   "source": [
    "import pandas as pd\n",
    "from math import radians, sin, cos, sqrt, atan2\n",
    "\n",
    "# === Haversine Function (returns meters) ===\n",
    "def haversine_m(lat1, lon1, lat2, lon2):\n",
    "    R = 6371000  # Radius of Earth in meters\n",
    "    dlat = radians(lat2 - lat1)\n",
    "    dlon = radians(lon2 - lon1)\n",
    "    a = sin(dlat/2)**2 + cos(radians(lat1)) * cos(radians(lat2)) * sin(dlon/2)**2\n",
    "    c = 2 * atan2(sqrt(a), sqrt(1 - a))\n",
    "    return R * c  # Result in meters\n",
    "\n",
    "df = pd.read_csv(\"output_with_geocoding.csv\")  # Replace with actual file name\n",
    "\n",
    "df[\"haversine_meters\"] = df.apply(\n",
    "    lambda row: haversine_m(row[\"latitude\"], row[\"longitude\"], row[\"new_latitude\"], row[\"new_longitude\"]),\n",
    "    axis=1\n",
    ")\n",
    "\n",
    "\n",
    "df.to_csv(\"with_haversine.csv\", index=False)\n",
    "print(\"with_haversine.csv saved successfully.\")\n",
    "\n",
    "print(df[[\"latitude\", \"longitude\", \"new_latitude\", \"new_longitude\", \"haversine_meters\"]].head())\n"
   ]
  },
  {
   "cell_type": "code",
   "execution_count": null,
   "id": "1c497f0f",
   "metadata": {},
   "outputs": [
    {
     "name": "stdout",
     "output_type": "stream",
     "text": [
      "with_haversine2.csv saved successfully.\n",
      "    latitude  longitude  geocoded_latitude  geocoded_longitude  \\\n",
      "0  19.050805  72.904268          19.051434           72.904597   \n",
      "1  19.082990  72.906953          19.082931           72.907095   \n",
      "2  19.111500  72.927931          19.110893           72.927014   \n",
      "3  19.093282  72.912599          19.128499           72.925282   \n",
      "4  19.070149  72.878210          19.065709           72.875879   \n",
      "\n",
      "   haversine_meters  \n",
      "0         78.022188  \n",
      "1         16.283376  \n",
      "2        117.614306  \n",
      "3       4136.457596  \n",
      "4        551.113142  \n"
     ]
    }
   ],
   "source": [
    "\n",
    "df = pd.read_csv(\"new_landmark_similarity_results_sample10.csv\")  # Replace with actual file name\n",
    "\n",
    "df[\"haversine_meters\"] = df.apply(\n",
    "    lambda row: haversine_m(row[\"latitude\"], row[\"longitude\"], row[\"geocoded_latitude\"], row[\"geocoded_longitude\"]),\n",
    "    axis=1\n",
    ")\n",
    "\n",
    "df.to_csv(\"with_haversine2.csv\", index=False)\n",
    "print(\"with_haversine2.csv saved successfully.\")\n",
    "print(df[[\"latitude\", \"longitude\", \"geocoded_latitude\", \"geocoded_longitude\", \"haversine_meters\"]].head())\n"
   ]
  },
  {
   "cell_type": "code",
   "execution_count": null,
   "id": "c5bb4ac1",
   "metadata": {},
   "outputs": [],
   "source": []
  }
 ],
 "metadata": {
  "kernelspec": {
   "display_name": "Python 3",
   "language": "python",
   "name": "python3"
  },
  "language_info": {
   "codemirror_mode": {
    "name": "ipython",
    "version": 3
   },
   "file_extension": ".py",
   "mimetype": "text/x-python",
   "name": "python",
   "nbconvert_exporter": "python",
   "pygments_lexer": "ipython3",
   "version": "3.12.5"
  }
 },
 "nbformat": 4,
 "nbformat_minor": 5
}
