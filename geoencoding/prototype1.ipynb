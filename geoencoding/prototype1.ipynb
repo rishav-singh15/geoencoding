{
 "cells": [
  {
   "cell_type": "markdown",
   "id": "f980616b",
   "metadata": {},
   "source": [
    "Nominatim Geocoding"
   ]
  },
  {
   "cell_type": "code",
   "execution_count": 2,
   "id": "9fd3e17b",
   "metadata": {},
   "outputs": [
    {
     "name": "stdout",
     "output_type": "stream",
     "text": [
      "Collecting geopy\n",
      "  Downloading geopy-2.4.1-py3-none-any.whl.metadata (6.8 kB)\n",
      "Collecting geographiclib<3,>=1.52 (from geopy)\n",
      "  Downloading geographiclib-2.0-py3-none-any.whl.metadata (1.4 kB)\n",
      "Downloading geopy-2.4.1-py3-none-any.whl (125 kB)\n",
      "Downloading geographiclib-2.0-py3-none-any.whl (40 kB)\n",
      "Installing collected packages: geographiclib, geopy\n",
      "\u001b[2K   \u001b[90m━━━━━━━━━━━━━━━━━━━━━━━━━━━━━━━━━━━━━━━━\u001b[0m \u001b[32m2/2\u001b[0m [geopy]\n",
      "\u001b[1A\u001b[2KSuccessfully installed geographiclib-2.0 geopy-2.4.1\n",
      "Note: you may need to restart the kernel to use updated packages.\n"
     ]
    }
   ],
   "source": [
    "%pip install geopy"
   ]
  },
  {
   "cell_type": "code",
   "execution_count": 10,
   "id": "d20d6628",
   "metadata": {},
   "outputs": [
    {
     "name": "stdout",
     "output_type": "stream",
     "text": [
      "Msrtc Bus Stop Chembur maitri park, Road Number 5, Maitri Park, M/W Ward, Zone 5, Mumbai Suburban, Maharashtra, 400089, India\n"
     ]
    }
   ],
   "source": [
    "from geopy.geocoders import Nominatim\n",
    "from geopy.extra.rate_limiter import RateLimiter\n",
    "\n",
    "# Initialize geocoder with custom User-Agent (required)\n",
    "geolocator = Nominatim(user_agent=\"geoencoding_app\")\n",
    "\n",
    "# Add a rate limiter to avoid being blocked\n",
    "reverse = RateLimiter(geolocator.reverse, min_delay_seconds=1.1)\n",
    "\n",
    "# Example coordinates\n",
    "latitude = 19.0488479705527\n",
    "longitude = 72.9065413679928\n",
    "\n",
    "# Get location\n",
    "location = reverse((latitude, longitude), exactly_one=True)\n",
    "\n",
    "# Print full address\n",
    "print(location.address)\n"
   ]
  },
  {
   "cell_type": "code",
   "execution_count": null,
   "id": "caac951b",
   "metadata": {},
   "outputs": [
    {
     "name": "stdout",
     "output_type": "stream",
     "text": [
      "✅ Reverse geocoding complete. File saved as 'sample1_with_addresses.csv'\n"
     ]
    }
   ],
   "source": [
    "import pandas as pd\n",
    "from geopy.geocoders import Nominatim\n",
    "from geopy.extra.rate_limiter import RateLimiter\n",
    "\n",
    "df = pd.read_csv(\"sample1.csv\")\n",
    "\n",
    "geolocator = Nominatim(user_agent=\"reverse-geocoder-script\")\n",
    "reverse = RateLimiter(geolocator.reverse, min_delay_seconds=1)\n",
    "\n",
    "\n",
    "def get_address(row):\n",
    "    try:\n",
    "        location = reverse((row['PrvLatitude'], row['PrvLongitude']))\n",
    "        return location.address if location else \"Not found\"\n",
    "    except:\n",
    "        return \"Error\"\n",
    "\n",
    "\n",
    "df[\"ReverseGeocodedAddress\"] = df.apply(get_address, axis=1)\n",
    "df.to_csv(\"sample1_with_addresses.csv\", index=False)\n",
    "\n",
    "print(\"Reverse geocoding complete. File saved as 'sample1_with_addresses.csv'\")\n"
   ]
  },
  {
   "cell_type": "code",
   "execution_count": null,
   "id": "b1a6f5f9",
   "metadata": {},
   "outputs": [
    {
     "name": "stdout",
     "output_type": "stream",
     "text": [
      "✅ Round-trip geocoding complete. File saved as 'sample1_with_roundtrip_check.csv'\n"
     ]
    }
   ],
   "source": [
    "import pandas as pd\n",
    "from geopy.geocoders import Nominatim\n",
    "from geopy.extra.rate_limiter import RateLimiter\n",
    "from geopy.distance import geodesic\n",
    "\n",
    "\n",
    "df = pd.read_csv(\"sample1.csv\")\n",
    "\n",
    "geolocator = Nominatim(user_agent=\"reverse-geocoder-script\")\n",
    "reverse = RateLimiter(geolocator.reverse, min_delay_seconds=1)\n",
    "forward = RateLimiter(geolocator.geocode, min_delay_seconds=1)\n",
    "\n",
    "\n",
    "def get_address_and_roundtrip(row):\n",
    "    try:\n",
    "        \n",
    "        location = reverse((row['PrvLatitude'], row['PrvLongitude']))\n",
    "        if location is None:\n",
    "            return pd.Series([\"Not found\", None, None, None])\n",
    "        \n",
    "        address = location.address\n",
    "\n",
    "        \n",
    "        geo_location = forward(address)\n",
    "        if geo_location is None:\n",
    "            return pd.Series([address, None, None, None])\n",
    "\n",
    "        roundtrip_lat = geo_location.latitude\n",
    "        roundtrip_lon = geo_location.longitude\n",
    "\n",
    "        \n",
    "        original_coords = (row['PrvLatitude'], row['PrvLongitude'])\n",
    "        new_coords = (roundtrip_lat, roundtrip_lon)\n",
    "        distance_meters = geodesic(original_coords, new_coords).meters\n",
    "\n",
    "        return pd.Series([address, roundtrip_lat, roundtrip_lon, distance_meters])\n",
    "\n",
    "    except Exception as e:\n",
    "        return pd.Series([\"Error\", None, None, None])\n",
    "\n",
    "\n",
    "df[['ReverseGeocodedAddress', 'RoundTripLatitude', 'RoundTripLongitude', 'DistanceFromOriginalMeters']] = df.apply(get_address_and_roundtrip, axis=1)\n",
    "df.to_csv(\"sample1_with_roundtrip_check.csv\", index=False)\n",
    "\n",
    "print(\"Round-trip geocoding complete. File saved as 'sample1_with_roundtrip_check.csv'\")\n"
   ]
  },
  {
   "cell_type": "code",
   "execution_count": null,
   "id": "9f93ce15",
   "metadata": {},
   "outputs": [],
   "source": []
  }
 ],
 "metadata": {
  "kernelspec": {
   "display_name": "Python (myenv)",
   "language": "python",
   "name": "myenv"
  },
  "language_info": {
   "codemirror_mode": {
    "name": "ipython",
    "version": 3
   },
   "file_extension": ".py",
   "mimetype": "text/x-python",
   "name": "python",
   "nbconvert_exporter": "python",
   "pygments_lexer": "ipython3",
   "version": "3.12.5"
  }
 },
 "nbformat": 4,
 "nbformat_minor": 5
}
