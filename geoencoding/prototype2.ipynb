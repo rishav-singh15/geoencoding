{
 "cells": [
  {
   "cell_type": "markdown",
   "id": "29bcd39d",
   "metadata": {},
   "source": [
    "Google Geocoding"
   ]
  },
  {
   "cell_type": "code",
   "execution_count": null,
   "id": "9c5f5a42",
   "metadata": {},
   "outputs": [
    {
     "name": "stdout",
     "output_type": "stream",
     "text": [
      "✅ Google API round-trip geocoding complete. File saved as 'sample1_google_geocoded.csv'\n"
     ]
    }
   ],
   "source": [
    "import pandas as pd\n",
    "import requests\n",
    "from geopy.distance import geodesic\n",
    "\n",
    "df = pd.read_csv(\"sample1.csv\")\n",
    "API_KEY = \"api_key\"\n",
    "\n",
    "def reverse_geocode_google(lat, lon):\n",
    "    url = f\"https://maps.googleapis.com/maps/api/geocode/json\"\n",
    "    params = {\n",
    "        \"latlng\": f\"{lat},{lon}\",\n",
    "        \"key\": API_KEY\n",
    "    }\n",
    "    response = requests.get(url, params=params)\n",
    "    results = response.json().get(\"results\")\n",
    "    if results:\n",
    "        return results[0][\"formatted_address\"]\n",
    "    else:\n",
    "        return \"Not found\"\n",
    "\n",
    "def forward_geocode_google(address):\n",
    "    url = f\"https://maps.googleapis.com/maps/api/geocode/json\"\n",
    "    params = {\n",
    "        \"address\": address,\n",
    "        \"key\": API_KEY\n",
    "    }\n",
    "    response = requests.get(url, params=params)\n",
    "    results = response.json().get(\"results\")\n",
    "    if results:\n",
    "        location = results[0][\"geometry\"][\"location\"]\n",
    "        return location[\"lat\"], location[\"lng\"]\n",
    "    else:\n",
    "        return None, None\n",
    "\n",
    "def process_row(row):\n",
    "    try:\n",
    "        # Reverse geocode\n",
    "        address = reverse_geocode_google(row['PrvLatitude'], row['PrvLongitude'])\n",
    "\n",
    "        # Forward geocode\n",
    "        lat2, lon2 = forward_geocode_google(address)\n",
    "\n",
    "        if lat2 is not None and lon2 is not None:\n",
    "            original = (row['PrvLatitude'], row['PrvLongitude'])\n",
    "            roundtrip = (lat2, lon2)\n",
    "            distance = geodesic(original, roundtrip).meters\n",
    "        else:\n",
    "            lat2, lon2, distance = None, None, None\n",
    "\n",
    "        return pd.Series([address, lat2, lon2, distance])\n",
    "\n",
    "    except Exception as e:\n",
    "        return pd.Series([\"Error\", None, None, None])\n",
    "\n",
    "df[['ReverseGeocodedAddress', 'RoundTripLatitude', 'RoundTripLongitude', 'DistanceFromOriginalMeters']] = df.apply(process_row, axis=1)\n",
    "\n",
    "df.to_csv(\"sample1_google_geocoded.csv\", index=False)\n",
    "print(\"Google API round-trip geocoding complete. File saved as 'sample1_google_geocoded.csv'\")\n"
   ]
  },
  {
   "cell_type": "code",
   "execution_count": null,
   "id": "64d0d877",
   "metadata": {},
   "outputs": [],
   "source": []
  }
 ],
 "metadata": {
  "kernelspec": {
   "display_name": "Python (myenv)",
   "language": "python",
   "name": "myenv"
  },
  "language_info": {
   "codemirror_mode": {
    "name": "ipython",
    "version": 3
   },
   "file_extension": ".py",
   "mimetype": "text/x-python",
   "name": "python",
   "nbconvert_exporter": "python",
   "pygments_lexer": "ipython3",
   "version": "3.12.5"
  }
 },
 "nbformat": 4,
 "nbformat_minor": 5
}
